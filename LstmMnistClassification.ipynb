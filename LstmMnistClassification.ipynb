{
  "nbformat": 4,
  "nbformat_minor": 0,
  "metadata": {
    "colab": {
      "name": "LstmMnistClassification.ipynb",
      "provenance": [],
      "collapsed_sections": []
    },
    "kernelspec": {
      "name": "python3",
      "display_name": "Python 3"
    }
  },
  "cells": [
    {
      "cell_type": "code",
      "metadata": {
        "id": "aqBzxLjZVC-2",
        "colab": {
          "base_uri": "https://localhost:8080/"
        },
        "outputId": "6771dd92-815b-44fc-f40a-e420ff010dcf"
      },
      "source": [
        "import tensorflow as tf\n",
        "from tensorflow import keras\n",
        "from tensorflow.keras import layers\n",
        "\n",
        "mnist = keras.datasets.mnist\n",
        "\n",
        "(X_train,Y_train),(X_test,Y_test) = mnist.load_data()"
      ],
      "execution_count": 1,
      "outputs": [
        {
          "output_type": "stream",
          "text": [
            "Downloading data from https://storage.googleapis.com/tensorflow/tf-keras-datasets/mnist.npz\n",
            "11493376/11490434 [==============================] - 0s 0us/step\n"
          ],
          "name": "stdout"
        }
      ]
    },
    {
      "cell_type": "code",
      "metadata": {
        "id": "Xz2fG7a-WGMg"
      },
      "source": [
        "X_train,X_test = X_train.astype('float32')/255.0,X_test.astype('float32')/255.0"
      ],
      "execution_count": 2,
      "outputs": []
    },
    {
      "cell_type": "code",
      "metadata": {
        "id": "7xE63olRWVQW",
        "colab": {
          "base_uri": "https://localhost:8080/"
        },
        "outputId": "fd1a3d93-8594-4368-b3fc-a5758567ad7d"
      },
      "source": [
        "model = keras.models.Sequential()\n",
        "model.add(keras.Input(shape=(28,28)))\n",
        "model.add(layers.Reshape((28,28,1),input_shape = (28,28)))\n",
        "model.add(keras.layers.Conv2D(4,(3,3),(1,1),activation='relu',input_shape = (28,28,1)))\n",
        "model.add(layers.MaxPool2D((2,2)))\n",
        "model.add(layers.Reshape((13,52),input_shape = (13,13,4)))\n",
        "model.add(layers.Dropout(0.05))\n",
        "model.add(layers.LSTM(64))\n",
        "model.add(layers.Dense(10,activation='softmax'))\n",
        "print(model.summary())"
      ],
      "execution_count": 3,
      "outputs": [
        {
          "output_type": "stream",
          "text": [
            "Model: \"sequential\"\n",
            "_________________________________________________________________\n",
            "Layer (type)                 Output Shape              Param #   \n",
            "=================================================================\n",
            "reshape (Reshape)            (None, 28, 28, 1)         0         \n",
            "_________________________________________________________________\n",
            "conv2d (Conv2D)              (None, 26, 26, 4)         40        \n",
            "_________________________________________________________________\n",
            "max_pooling2d (MaxPooling2D) (None, 13, 13, 4)         0         \n",
            "_________________________________________________________________\n",
            "reshape_1 (Reshape)          (None, 13, 52)            0         \n",
            "_________________________________________________________________\n",
            "dropout (Dropout)            (None, 13, 52)            0         \n",
            "_________________________________________________________________\n",
            "lstm (LSTM)                  (None, 64)                29952     \n",
            "_________________________________________________________________\n",
            "dense (Dense)                (None, 10)                650       \n",
            "=================================================================\n",
            "Total params: 30,642\n",
            "Trainable params: 30,642\n",
            "Non-trainable params: 0\n",
            "_________________________________________________________________\n",
            "None\n"
          ],
          "name": "stdout"
        }
      ]
    },
    {
      "cell_type": "code",
      "metadata": {
        "id": "KH3LhZiMZp5e"
      },
      "source": [
        "loss = keras.losses.sparse_categorical_crossentropy\n",
        "optimizer = keras.optimizers.Adam(learning_rate = 0.001)\n",
        "metrics = ['accuracy']\n",
        "\n",
        "model.compile(optimizer=optimizer,loss=loss,metrics=metrics)"
      ],
      "execution_count": 4,
      "outputs": []
    },
    {
      "cell_type": "code",
      "metadata": {
        "id": "sdiZWAVkaVkO",
        "colab": {
          "base_uri": "https://localhost:8080/"
        },
        "outputId": "431f9134-4944-4a31-8221-1f00c0cbceab"
      },
      "source": [
        "batch_size = 32\n",
        "epochs = 5\n",
        "\n",
        "model.fit(X_train,Y_train,batch_size=batch_size,epochs=epochs,verbose=1)"
      ],
      "execution_count": 5,
      "outputs": [
        {
          "output_type": "stream",
          "text": [
            "Epoch 1/5\n",
            "1875/1875 [==============================] - 29s 14ms/step - loss: 0.7855 - accuracy: 0.7393\n",
            "Epoch 2/5\n",
            "1875/1875 [==============================] - 27s 15ms/step - loss: 0.1137 - accuracy: 0.9648\n",
            "Epoch 3/5\n",
            "1875/1875 [==============================] - 27s 15ms/step - loss: 0.0795 - accuracy: 0.9756\n",
            "Epoch 4/5\n",
            "1875/1875 [==============================] - 28s 15ms/step - loss: 0.0607 - accuracy: 0.9816\n",
            "Epoch 5/5\n",
            "1875/1875 [==============================] - 29s 15ms/step - loss: 0.0488 - accuracy: 0.9847\n"
          ],
          "name": "stdout"
        },
        {
          "output_type": "execute_result",
          "data": {
            "text/plain": [
              "<tensorflow.python.keras.callbacks.History at 0x7fdb58f0e470>"
            ]
          },
          "metadata": {
            "tags": []
          },
          "execution_count": 5
        }
      ]
    },
    {
      "cell_type": "code",
      "metadata": {
        "id": "oiFJacWrdo2u",
        "colab": {
          "base_uri": "https://localhost:8080/"
        },
        "outputId": "faf0a22d-2d6d-451f-f224-4cf1e5b45bbc"
      },
      "source": [
        "model.evaluate(X_test,Y_test)"
      ],
      "execution_count": 6,
      "outputs": [
        {
          "output_type": "stream",
          "text": [
            "313/313 [==============================] - 2s 6ms/step - loss: 0.0472 - accuracy: 0.9853\n"
          ],
          "name": "stdout"
        },
        {
          "output_type": "execute_result",
          "data": {
            "text/plain": [
              "[0.0471610464155674, 0.9853000044822693]"
            ]
          },
          "metadata": {
            "tags": []
          },
          "execution_count": 6
        }
      ]
    }
  ]
}